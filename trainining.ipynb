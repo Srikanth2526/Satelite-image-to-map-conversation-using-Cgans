{
  "cells": [
    {
      "cell_type": "code",
      "execution_count": null,
      "id": "2ed7231c-d980-4df4-a284-9ee2b2d48dea",
      "metadata": {
        "id": "2ed7231c-d980-4df4-a284-9ee2b2d48dea",
        "outputId": "235eff38-6bf4-4365-f6c1-b7b333617b17"
      },
      "outputs": [
        {
          "name": "stdout",
          "output_type": "stream",
          "text": [
            "Image Shape: torch.Size([1, 3, 128, 128])\n",
            "Label Shape: torch.Size([1, 1, 128, 128])\n"
          ]
        }
      ],
      "source": [
        "import os\n",
        "import torch\n",
        "import torchvision.transforms as transforms\n",
        "from torch.utils.data import Dataset, DataLoader\n",
        "from PIL import Image\n",
        "import random\n",
        "\n",
        "# Dataset Path\n",
        "DATASET_PATH = r\"C:\\Users\\linga\\OneDrive\\Desktop\\mini\\tiff\"\n",
        "\n",
        "# Custom Transformation for Mask Binarization\n",
        "class BinarizeMask(torch.nn.Module):\n",
        "    def forward(self, x):\n",
        "        return (x > 0).float()  # Ensure shape (1, H, W)\n",
        "\n",
        "# Define Image Transformations with Augmentations\n",
        "class PairedTransform:\n",
        "    def __init__(self, image_size=128):  # ✅ Changed to 128\n",
        "        self.image_size = image_size\n",
        "        self.image_transform = transforms.Compose([\n",
        "            transforms.Resize((image_size, image_size)),  # ✅ Resize to 128x128\n",
        "            transforms.ToTensor(),\n",
        "            transforms.Normalize(mean=[0.5], std=[0.5])  # Normalize to [-1,1]\n",
        "        ])\n",
        "        self.mask_transform = transforms.Compose([\n",
        "            transforms.Resize((image_size, image_size)),  # ✅ Resize to 128x128\n",
        "            transforms.ToTensor(),\n",
        "            BinarizeMask()  # Use custom class instead of Lambda\n",
        "        ])\n",
        "\n",
        "    def __call__(self, img, label):\n",
        "        # Apply same augmentations to both\n",
        "        if random.random() > 0.5:\n",
        "            img = transforms.functional.hflip(img)\n",
        "            label = transforms.functional.hflip(label)\n",
        "        if random.random() > 0.5:\n",
        "            img = transforms.functional.vflip(img)\n",
        "            label = transforms.functional.vflip(label)\n",
        "\n",
        "        return self.image_transform(img), self.mask_transform(label)\n",
        "\n",
        "\n",
        "# Dataset Class\n",
        "class SatelliteRoadDataset(Dataset):\n",
        "    def __init__(self, image_dir, label_dir, transform=None):\n",
        "        self.image_dir = image_dir\n",
        "        self.label_dir = label_dir\n",
        "        self.transform = transform\n",
        "        self.image_filenames = sorted(os.listdir(image_dir))\n",
        "        self.label_filenames = sorted(os.listdir(label_dir))\n",
        "\n",
        "        # Ensure filenames match (Sanity Check)\n",
        "        assert len(self.image_filenames) == len(self.label_filenames), \"Mismatch in dataset size!\"\n",
        "        assert all(img.split('.')[0] == lbl.split('.')[0]\n",
        "                   for img, lbl in zip(self.image_filenames, self.label_filenames)), \"Image and mask filenames do not match!\"\n",
        "\n",
        "    def __len__(self):\n",
        "        return len(self.image_filenames)\n",
        "\n",
        "    def __getitem__(self, idx):\n",
        "        img_path = os.path.join(self.image_dir, self.image_filenames[idx])\n",
        "        label_path = os.path.join(self.label_dir, self.label_filenames[idx])\n",
        "\n",
        "        image = Image.open(img_path).convert(\"RGB\")\n",
        "        label = Image.open(label_path).convert(\"L\")  # Convert to grayscale (single channel)\n",
        "\n",
        "        if self.transform:\n",
        "            image, label = self.transform(image, label)  # Apply transformation\n",
        "\n",
        "        return image, label  # Ensure label is (1, 128, 128) for training\n",
        "\n",
        "# Create DataLoaders\n",
        "def get_dataloader(batch_size=1, num_workers=0):  # num_workers=0 to avoid multiprocessing issues in Windows\n",
        "    transform = PairedTransform(image_size=128)  # ✅ Changed to 128\n",
        "\n",
        "    train_dataset = SatelliteRoadDataset(\n",
        "        image_dir=os.path.join(DATASET_PATH, \"train\"),\n",
        "        label_dir=os.path.join(DATASET_PATH, \"train_labels\"),\n",
        "        transform=transform,\n",
        "    )\n",
        "\n",
        "    val_dataset = SatelliteRoadDataset(\n",
        "        image_dir=os.path.join(DATASET_PATH, \"val\"),\n",
        "        label_dir=os.path.join(DATASET_PATH, \"val_labels\"),\n",
        "        transform=transform,\n",
        "    )\n",
        "\n",
        "    train_loader = DataLoader(train_dataset, batch_size=batch_size, shuffle=True, num_workers=num_workers, pin_memory=True)\n",
        "    val_loader = DataLoader(val_dataset, batch_size=batch_size, shuffle=False, num_workers=num_workers, pin_memory=True)\n",
        "\n",
        "    return train_dataset, val_dataset, train_loader, val_loader  # Return all four\n",
        "\n",
        "\n",
        "# Example Usage\n",
        "train_dataset, val_dataset, train_loader, val_loader = get_dataloader(batch_size=1)\n",
        "\n",
        "# Check sample\n",
        "sample_img, sample_label = next(iter(train_loader))\n",
        "print(\"Image Shape:\", sample_img.shape)  # ✅ Expected: (1, 3, 128, 128)\n",
        "print(\"Label Shape:\", sample_label.shape)  # ✅ Expected: (1, 1, 128, 128)\n"
      ]
    },
    {
      "cell_type": "code",
      "execution_count": null,
      "id": "5b874aa9-de23-4f80-b880-986eb5727660",
      "metadata": {
        "id": "5b874aa9-de23-4f80-b880-986eb5727660",
        "outputId": "bade1380-1eb4-4ea8-c907-ceaa3032cdb9"
      },
      "outputs": [
        {
          "name": "stdout",
          "output_type": "stream",
          "text": [
            "Collecting matplotlib\n",
            "  Downloading matplotlib-3.10.1-cp311-cp311-win_amd64.whl.metadata (11 kB)\n",
            "Collecting contourpy>=1.0.1 (from matplotlib)\n",
            "  Downloading contourpy-1.3.1-cp311-cp311-win_amd64.whl.metadata (5.4 kB)\n",
            "Collecting cycler>=0.10 (from matplotlib)\n",
            "  Downloading cycler-0.12.1-py3-none-any.whl.metadata (3.8 kB)\n",
            "Collecting fonttools>=4.22.0 (from matplotlib)\n",
            "  Downloading fonttools-4.57.0-cp311-cp311-win_amd64.whl.metadata (104 kB)\n",
            "Collecting kiwisolver>=1.3.1 (from matplotlib)\n",
            "  Downloading kiwisolver-1.4.8-cp311-cp311-win_amd64.whl.metadata (6.3 kB)\n",
            "Requirement already satisfied: numpy>=1.23 in c:\\users\\linga\\appdata\\local\\programs\\python\\python311\\lib\\site-packages (from matplotlib) (2.1.2)\n",
            "Requirement already satisfied: packaging>=20.0 in c:\\users\\linga\\appdata\\local\\programs\\python\\python311\\lib\\site-packages (from matplotlib) (24.2)\n",
            "Requirement already satisfied: pillow>=8 in c:\\users\\linga\\appdata\\local\\programs\\python\\python311\\lib\\site-packages (from matplotlib) (11.0.0)\n",
            "Collecting pyparsing>=2.3.1 (from matplotlib)\n",
            "  Downloading pyparsing-3.2.3-py3-none-any.whl.metadata (5.0 kB)\n",
            "Requirement already satisfied: python-dateutil>=2.7 in c:\\users\\linga\\appdata\\local\\programs\\python\\python311\\lib\\site-packages (from matplotlib) (2.9.0.post0)\n",
            "Requirement already satisfied: six>=1.5 in c:\\users\\linga\\appdata\\local\\programs\\python\\python311\\lib\\site-packages (from python-dateutil>=2.7->matplotlib) (1.17.0)\n",
            "Downloading matplotlib-3.10.1-cp311-cp311-win_amd64.whl (8.1 MB)\n",
            "   ---------------------------------------- 0.0/8.1 MB ? eta -:--:--\n",
            "   ---------------- ----------------------- 3.4/8.1 MB 20.2 MB/s eta 0:00:01\n",
            "   ----------------------- ---------------- 4.7/8.1 MB 12.4 MB/s eta 0:00:01\n",
            "   -------------------------- ------------- 5.2/8.1 MB 8.8 MB/s eta 0:00:01\n",
            "   ----------------------------- ---------- 6.0/8.1 MB 7.4 MB/s eta 0:00:01\n",
            "   --------------------------------- ------ 6.8/8.1 MB 6.6 MB/s eta 0:00:01\n",
            "   --------------------------------- ------ 6.8/8.1 MB 6.6 MB/s eta 0:00:01\n",
            "   --------------------------------- ------ 6.8/8.1 MB 6.6 MB/s eta 0:00:01\n",
            "   ---------------------------------------- 8.1/8.1 MB 4.8 MB/s eta 0:00:00\n",
            "Downloading contourpy-1.3.1-cp311-cp311-win_amd64.whl (219 kB)\n",
            "Downloading cycler-0.12.1-py3-none-any.whl (8.3 kB)\n",
            "Downloading fonttools-4.57.0-cp311-cp311-win_amd64.whl (2.2 MB)\n",
            "   ---------------------------------------- 0.0/2.2 MB ? eta -:--:--\n",
            "   -------------- ------------------------- 0.8/2.2 MB 3.7 MB/s eta 0:00:01\n",
            "   ----------------------- ---------------- 1.3/2.2 MB 3.7 MB/s eta 0:00:01\n",
            "   ----------------------- ---------------- 1.3/2.2 MB 3.7 MB/s eta 0:00:01\n",
            "   ----------------------- ---------------- 1.3/2.2 MB 3.7 MB/s eta 0:00:01\n",
            "   ----------------------- ---------------- 1.3/2.2 MB 3.7 MB/s eta 0:00:01\n",
            "   ----------------------- ---------------- 1.3/2.2 MB 3.7 MB/s eta 0:00:01\n",
            "   ----------------------- ---------------- 1.3/2.2 MB 3.7 MB/s eta 0:00:01\n",
            "   ----------------------- ---------------- 1.3/2.2 MB 3.7 MB/s eta 0:00:01\n",
            "   ----------------------- ---------------- 1.3/2.2 MB 3.7 MB/s eta 0:00:01\n",
            "   ----------------------- ---------------- 1.3/2.2 MB 3.7 MB/s eta 0:00:01\n",
            "   ----------------------- ---------------- 1.3/2.2 MB 3.7 MB/s eta 0:00:01\n",
            "   ----------------------- ---------------- 1.3/2.2 MB 3.7 MB/s eta 0:00:01\n",
            "   ---------------------------- ----------- 1.6/2.2 MB 508.4 kB/s eta 0:00:02\n",
            "   ---------------------------- ----------- 1.6/2.2 MB 508.4 kB/s eta 0:00:02\n",
            "   ---------------------------------------- 2.2/2.2 MB 641.0 kB/s eta 0:00:00\n",
            "Downloading kiwisolver-1.4.8-cp311-cp311-win_amd64.whl (71 kB)\n",
            "Downloading pyparsing-3.2.3-py3-none-any.whl (111 kB)\n",
            "Installing collected packages: pyparsing, kiwisolver, fonttools, cycler, contourpy, matplotlib\n",
            "Successfully installed contourpy-1.3.1 cycler-0.12.1 fonttools-4.57.0 kiwisolver-1.4.8 matplotlib-3.10.1 pyparsing-3.2.3\n",
            "Note: you may need to restart the kernel to use updated packages.\n"
          ]
        }
      ],
      "source": [
        "pip install matplotlib"
      ]
    },
    {
      "cell_type": "code",
      "execution_count": null,
      "id": "f3d1a43c-faa7-4056-b701-14e059225519",
      "metadata": {
        "id": "f3d1a43c-faa7-4056-b701-14e059225519",
        "outputId": "587f7e08-920a-44f3-8b0b-5464e856017e"
      },
      "outputs": [
        {
          "ename": "ValueError",
          "evalue": "too many values to unpack (expected 2)",
          "output_type": "error",
          "traceback": [
            "\u001b[31m---------------------------------------------------------------------------\u001b[39m",
            "\u001b[31mValueError\u001b[39m                                Traceback (most recent call last)",
            "\u001b[36mCell\u001b[39m\u001b[36m \u001b[39m\u001b[32mIn[4]\u001b[39m\u001b[32m, line 4\u001b[39m\n\u001b[32m      1\u001b[39m \u001b[38;5;28;01mimport\u001b[39;00m\u001b[38;5;250m \u001b[39m\u001b[34;01mmatplotlib\u001b[39;00m\u001b[34;01m.\u001b[39;00m\u001b[34;01mpyplot\u001b[39;00m\u001b[38;5;250m \u001b[39m\u001b[38;5;28;01mas\u001b[39;00m\u001b[38;5;250m \u001b[39m\u001b[34;01mplt\u001b[39;00m\n\u001b[32m      3\u001b[39m \u001b[38;5;66;03m# Get a batch of data\u001b[39;00m\n\u001b[32m----> \u001b[39m\u001b[32m4\u001b[39m train_loader, _ = get_dataloader(batch_size=\u001b[32m4\u001b[39m)  \u001b[38;5;66;03m# Load dataset with batch size 4\u001b[39;00m\n\u001b[32m      5\u001b[39m sample_img, sample_label = \u001b[38;5;28mnext\u001b[39m(\u001b[38;5;28miter\u001b[39m(train_loader))  \u001b[38;5;66;03m# Get a batch\u001b[39;00m\n\u001b[32m      7\u001b[39m \u001b[38;5;66;03m# Convert images back from [-1, 1] to [0, 1] for visualization\u001b[39;00m\n",
            "\u001b[31mValueError\u001b[39m: too many values to unpack (expected 2)"
          ]
        }
      ],
      "source": [
        "import matplotlib.pyplot as plt\n",
        "\n",
        "# Get a batch of data\n",
        "train_loader, _ = get_dataloader(batch_size=4)  # Load dataset with batch size 4\n",
        "sample_img, sample_label = next(iter(train_loader))  # Get a batch\n",
        "\n",
        "# Convert images back from [-1, 1] to [0, 1] for visualization\n",
        "def denormalize(tensor):\n",
        "    return (tensor * 0.5) + 0.5  # Reverse normalization\n",
        "\n",
        "# Convert tensors to NumPy for plotting\n",
        "sample_img = denormalize(sample_img).permute(0, 2, 3, 1).cpu().numpy()  # Shape: (batch, H, W, C)\n",
        "sample_label = denormalize(sample_label).squeeze(1).cpu().numpy()  # Shape: (batch, H, W)\n",
        "\n",
        "# Plot two images and labels\n",
        "fig, axes = plt.subplots(2, 2, figsize=(8, 8))\n",
        "\n",
        "for i in range(2):  # Display two samples\n",
        "    axes[i, 0].imshow(sample_img[i])  # RGB Image\n",
        "    axes[i, 0].set_title(\"Input Image\")\n",
        "    axes[i, 0].axis(\"off\")\n",
        "\n",
        "    axes[i, 1].imshow(sample_label[i], cmap=\"gray\")  # Grayscale Mask\n",
        "    axes[i, 1].set_title(\"Ground Truth Label\")\n",
        "    axes[i, 1].axis(\"off\")\n",
        "\n",
        "plt.tight_layout()\n",
        "plt.show()\n"
      ]
    },
    {
      "cell_type": "code",
      "execution_count": null,
      "id": "70789667-ac52-4b41-88f4-1a07d892450d",
      "metadata": {
        "id": "70789667-ac52-4b41-88f4-1a07d892450d",
        "outputId": "4b3e67c4-0916-492d-d656-2de73da1fa1e"
      },
      "outputs": [
        {
          "name": "stdout",
          "output_type": "stream",
          "text": [
            "Output Shape: torch.Size([1, 1, 256, 256])\n"
          ]
        }
      ],
      "source": [
        "import torch\n",
        "import torch.nn as nn\n",
        "import torch.nn.functional as F\n",
        "\n",
        "# --- Basic Conv Block (Conv -> BatchNorm -> LeakyReLU) ---\n",
        "class ConvBlock(nn.Module):\n",
        "    def __init__(self, in_channels, out_channels):\n",
        "        super(ConvBlock, self).__init__()\n",
        "        self.conv = nn.Sequential(\n",
        "            nn.Conv2d(in_channels, out_channels, kernel_size=3, padding=1),\n",
        "            nn.BatchNorm2d(out_channels),\n",
        "            nn.LeakyReLU(0.2, inplace=True),\n",
        "            nn.Conv2d(out_channels, out_channels, kernel_size=3, padding=1),\n",
        "            nn.BatchNorm2d(out_channels),\n",
        "            nn.LeakyReLU(0.2, inplace=True)\n",
        "        )\n",
        "\n",
        "    def forward(self, x):\n",
        "        return self.conv(x)\n",
        "\n",
        "# --- Downsampling (2x2 Max Pool + Conv Block) ---\n",
        "class DownBlock(nn.Module):\n",
        "    def __init__(self, in_channels, out_channels):\n",
        "        super(DownBlock, self).__init__()\n",
        "        self.pool = nn.MaxPool2d(2)\n",
        "        self.conv = ConvBlock(in_channels, out_channels)\n",
        "\n",
        "    def forward(self, x):\n",
        "        x = self.pool(x)\n",
        "        return self.conv(x)\n",
        "\n",
        "# --- Upsampling (ConvTranspose + Skip Connection) ---\n",
        "class UpBlock(nn.Module):\n",
        "    def __init__(self, in_channels, out_channels):\n",
        "        super(UpBlock, self).__init__()\n",
        "        self.up = nn.ConvTranspose2d(in_channels, out_channels, kernel_size=2, stride=2)\n",
        "        self.conv = ConvBlock(out_channels * 2, out_channels)  # Expecting concatenated input\n",
        "\n",
        "    def forward(self, x, skip):\n",
        "        x = self.up(x)  # Upsample\n",
        "\n",
        "        # Fix channel mismatch if necessary\n",
        "        if x.shape[1] != skip.shape[1]:\n",
        "            diff = skip.shape[1] - x.shape[1]\n",
        "            pad = torch.zeros(x.shape[0], diff, x.shape[2], x.shape[3], device=x.device)\n",
        "            x = torch.cat([x, pad], dim=1)\n",
        "\n",
        "        x = torch.cat([x, skip], dim=1)  # Concatenate along channel axis\n",
        "        return self.conv(x)\n",
        "\n",
        "# --- Output Layer (1x1 Conv -> Sigmoid) ---\n",
        "class OutputBlock(nn.Module):\n",
        "    def __init__(self, in_channels, out_channels):\n",
        "        super(OutputBlock, self).__init__()\n",
        "        self.conv = nn.Conv2d(in_channels, out_channels, kernel_size=1)\n",
        "\n",
        "    def forward(self, x):\n",
        "        return torch.sigmoid(self.conv(x))  # Normalize output to [0,1]\n",
        "\n",
        "# --- Full U-Net Generator ---\n",
        "class UNetGenerator(nn.Module):\n",
        "    def __init__(self, in_channels=3, out_channels=1):\n",
        "        super(UNetGenerator, self).__init__()\n",
        "\n",
        "        # Downsampling\n",
        "        self.enc1 = ConvBlock(in_channels, 64)\n",
        "        self.enc2 = DownBlock(64, 128)\n",
        "        self.enc3 = DownBlock(128, 256)\n",
        "        self.enc4 = DownBlock(256, 512)\n",
        "\n",
        "        # Bottleneck\n",
        "        self.bottleneck = DownBlock(512, 1024)\n",
        "\n",
        "        # Upsampling\n",
        "        self.dec4 = UpBlock(1024, 512)\n",
        "        self.dec3 = UpBlock(512, 256)\n",
        "        self.dec2 = UpBlock(256, 128)\n",
        "        self.dec1 = UpBlock(128, 64)\n",
        "\n",
        "        # Output\n",
        "        self.output = OutputBlock(64, out_channels)\n",
        "\n",
        "    def forward(self, x):\n",
        "        s1 = self.enc1(x)\n",
        "        s2 = self.enc2(s1)\n",
        "        s3 = self.enc3(s2)\n",
        "        s4 = self.enc4(s3)\n",
        "\n",
        "        # Bottleneck\n",
        "        b = self.bottleneck(s4)\n",
        "\n",
        "        # Upsampling with skip connections\n",
        "        d4 = self.dec4(b, s4)\n",
        "        d3 = self.dec3(d4, s3)\n",
        "        d2 = self.dec2(d3, s2)\n",
        "        d1 = self.dec1(d2, s1)\n",
        "\n",
        "        return self.output(d1)\n",
        "\n",
        "# --- Model Initialization ---\n",
        "device = torch.device(\"cuda\" if torch.cuda.is_available() else \"cpu\")\n",
        "generator = UNetGenerator().to(device)\n",
        "\n",
        "# --- Test Run ---\n",
        "test_input = torch.randn(1, 3, 256, 256).to(device)  # ✅ Correct Input Shape\n",
        "test_output = generator(test_input)\n",
        "print(\"Output Shape:\", test_output.shape)  # ✅ Expected: (1, 1, 256, 256)\n"
      ]
    },
    {
      "cell_type": "code",
      "execution_count": null,
      "id": "86ebdf63-411a-41be-8f41-8326ee8d4306",
      "metadata": {
        "id": "86ebdf63-411a-41be-8f41-8326ee8d4306",
        "outputId": "99bf974f-bec9-4bc7-9a92-76cf673f1573"
      },
      "outputs": [
        {
          "name": "stdout",
          "output_type": "stream",
          "text": [
            "Discriminator Output Shapes:\n",
            "Scale 1 Output Shape: torch.Size([1, 1, 14, 14])\n",
            "Scale 2 Output Shape: torch.Size([1, 1, 6, 6])\n",
            "Scale 3 Output Shape: torch.Size([1, 1, 2, 2])\n"
          ]
        }
      ],
      "source": [
        "import torch\n",
        "import torch.nn as nn\n",
        "import torch.nn.functional as F\n",
        "\n",
        "# --- Basic Discriminator Block (Conv -> InstanceNorm -> LeakyReLU) ---\n",
        "class DiscriminatorBlock(nn.Module):\n",
        "    def __init__(self, in_channels, out_channels, stride=2):\n",
        "        super(DiscriminatorBlock, self).__init__()\n",
        "        self.conv = nn.Sequential(\n",
        "            nn.Conv2d(in_channels, out_channels, kernel_size=4, stride=stride, padding=1),\n",
        "            nn.InstanceNorm2d(out_channels),  # More stable than BatchNorm for GANs\n",
        "            nn.LeakyReLU(0.2, inplace=True)\n",
        "        )\n",
        "\n",
        "    def forward(self, x):\n",
        "        return self.conv(x)\n",
        "\n",
        "# --- Single Scale Discriminator (PatchGAN-Based) ---\n",
        "class SingleDiscriminator(nn.Module):\n",
        "    def __init__(self, in_channels=4):\n",
        "        super(SingleDiscriminator, self).__init__()\n",
        "\n",
        "        self.block1 = nn.Conv2d(in_channels, 64, kernel_size=4, stride=2, padding=1)  # No Norm in First Layer\n",
        "        self.block2 = DiscriminatorBlock(64, 128, stride=2)\n",
        "        self.block3 = DiscriminatorBlock(128, 256, stride=2)\n",
        "        self.block4 = DiscriminatorBlock(256, 512, stride=1)  # Reduce size but keep features\n",
        "        self.output = nn.Conv2d(512, 1, kernel_size=4, stride=1, padding=1)  # Single output channel\n",
        "\n",
        "    def forward(self, x):\n",
        "        x = F.leaky_relu(self.block1(x), 0.2, inplace=True)\n",
        "        x = self.block2(x)\n",
        "        x = self.block3(x)\n",
        "        x = self.block4(x)\n",
        "        return torch.sigmoid(self.output(x))  # Output range: [0,1]\n",
        "\n",
        "# --- Multi-Scale Discriminator (Combines 3 PatchGANs at Different Resolutions) ---\n",
        "class MultiScaleDiscriminator(nn.Module):\n",
        "    def __init__(self, in_channels=4):\n",
        "        super(MultiScaleDiscriminator, self).__init__()\n",
        "        self.disc1 = SingleDiscriminator(in_channels)  # Full Resolution\n",
        "        self.disc2 = SingleDiscriminator(in_channels)  # Half Resolution\n",
        "        self.disc3 = SingleDiscriminator(in_channels)  # Quarter Resolution\n",
        "\n",
        "    def forward(self, x):\n",
        "        x2 = F.interpolate(x, scale_factor=0.5, mode='bilinear', align_corners=False)  # Downscale x by 2\n",
        "        x3 = F.interpolate(x, scale_factor=0.25, mode='bilinear', align_corners=False)  # Downscale x by 4\n",
        "\n",
        "        out1 = self.disc1(x)  # Full Res\n",
        "        out2 = self.disc2(x2)  # Half Res\n",
        "        out3 = self.disc3(x3)  # Quarter Res\n",
        "\n",
        "        return [out1, out2, out3]  # Multi-Scale Outputs\n",
        "\n",
        "# --- Initialize Model ---\n",
        "device = torch.device(\"cuda\" if torch.cuda.is_available() else \"cpu\")\n",
        "discriminator = MultiScaleDiscriminator().to(device)\n",
        "\n",
        "# --- Test Run ---\n",
        "test_input = torch.randn(1, 4, 128, 128).to(device)  # ✅ Correct Input Shape\n",
        "test_output = discriminator(test_input)\n",
        "\n",
        "# Output shapes (PatchGAN outputs different sizes)\n",
        "print(\"Discriminator Output Shapes:\")\n",
        "for i, out in enumerate(test_output):\n",
        "    print(f\"Scale {i+1} Output Shape:\", out.shape)  # ✅ Expected: Smaller patch outputs\n"
      ]
    },
    {
      "cell_type": "code",
      "execution_count": null,
      "id": "06b6ed6f-2cc8-4289-9131-5cb7fd22feda",
      "metadata": {
        "id": "06b6ed6f-2cc8-4289-9131-5cb7fd22feda"
      },
      "outputs": [],
      "source": [
        "import torch\n",
        "import torch.nn as nn\n",
        "import torch.nn.functional as F\n",
        "import torchvision\n",
        "\n",
        "# SSIM Loss Function\n",
        "class SSIMLoss(nn.Module):\n",
        "    def __init__(self):\n",
        "        super(SSIMLoss, self).__init__()\n",
        "\n",
        "    def forward(self, img1, img2):\n",
        "        return 1 - torchvision.transforms.functional.ssim(img1, img2, data_range=1.0)\n",
        "\n",
        "# Generator Loss\n",
        "class GeneratorLoss(nn.Module):\n",
        "    def __init__(self, lambda_L1=100):\n",
        "        super(GeneratorLoss, self).__init__()\n",
        "        self.adv_loss = nn.BCEWithLogitsLoss()  # Adversarial Loss\n",
        "        self.l1_loss = nn.L1Loss()  # L1 Loss for Pixel Difference\n",
        "        self.ssim_loss = SSIMLoss()  # Structural Similarity Loss\n",
        "        self.lambda_L1 = lambda_L1\n",
        "        self.lambda_SSIM = 1.0  # Weight for SSIM loss\n",
        "\n",
        "    def forward(self, fake_images, real_images, disc_fake_outputs):\n",
        "        adv_loss = self.adv_loss(disc_fake_outputs, torch.ones_like(disc_fake_outputs))  # Fool the discriminator\n",
        "        l1_loss = self.l1_loss(fake_images, real_images)\n",
        "        ssim_loss = self.ssim_loss(fake_images, real_images)\n",
        "\n",
        "        total_loss = adv_loss + self.lambda_L1 * l1_loss + self.lambda_SSIM * ssim_loss\n",
        "        return total_loss, {\"Adv Loss\": adv_loss.item(), \"L1 Loss\": l1_loss.item(), \"SSIM Loss\": ssim_loss.item()}\n",
        "\n",
        "# Discriminator Loss\n",
        "class DiscriminatorLoss(nn.Module):\n",
        "    def __init__(self):\n",
        "        super(DiscriminatorLoss, self).__init__()\n",
        "        self.adv_loss = nn.BCEWithLogitsLoss()  # Binary Cross Entropy for Real vs Fake\n",
        "\n",
        "    def forward(self, disc_real_outputs, disc_fake_outputs):\n",
        "        real_loss = self.adv_loss(disc_real_outputs, torch.ones_like(disc_real_outputs))  # Real = 1\n",
        "        fake_loss = self.adv_loss(disc_fake_outputs, torch.zeros_like(disc_fake_outputs))  # Fake = 0\n",
        "        total_loss = (real_loss + fake_loss) / 2\n",
        "        return total_loss, {\"D Real Loss\": real_loss.item(), \"D Fake Loss\": fake_loss.item()}\n"
      ]
    },
    {
      "cell_type": "code",
      "execution_count": null,
      "id": "80336caf-1df2-4395-9a9e-063b28f2204f",
      "metadata": {
        "id": "80336caf-1df2-4395-9a9e-063b28f2204f"
      },
      "outputs": [],
      "source": [
        "device = \"cuda\" if torch.cuda.is_available() else \"cpu\"\n",
        "\n",
        "generator = UNetGenerator().to(device)\n",
        "discriminator = MultiScaleDiscriminator().to(device)\n"
      ]
    },
    {
      "cell_type": "code",
      "execution_count": null,
      "id": "f4391f99-fd74-4c9a-9a0f-d768176ab041",
      "metadata": {
        "id": "f4391f99-fd74-4c9a-9a0f-d768176ab041",
        "outputId": "7d27a112-10d4-49ee-acd0-4ec39c5e74a0"
      },
      "outputs": [
        {
          "name": "stderr",
          "output_type": "stream",
          "text": [
            "                                                                                                                       "
          ]
        },
        {
          "name": "stdout",
          "output_type": "stream",
          "text": [
            "Epoch [1/50] → Train Loss G: 23.7886, Train Loss D: 0.5971, Val Loss G: 21.4768\n"
          ]
        },
        {
          "name": "stderr",
          "output_type": "stream",
          "text": [
            "                                                                                                                       "
          ]
        },
        {
          "name": "stdout",
          "output_type": "stream",
          "text": [
            "Epoch [2/50] → Train Loss G: 16.0495, Train Loss D: 0.6175, Val Loss G: 19.7495\n"
          ]
        },
        {
          "name": "stderr",
          "output_type": "stream",
          "text": [
            "                                                                                                                       "
          ]
        },
        {
          "name": "stdout",
          "output_type": "stream",
          "text": [
            "Epoch [3/50] → Train Loss G: 14.0801, Train Loss D: 0.6320, Val Loss G: 18.9867\n"
          ]
        },
        {
          "name": "stderr",
          "output_type": "stream",
          "text": [
            "                                                                                                                       "
          ]
        },
        {
          "name": "stdout",
          "output_type": "stream",
          "text": [
            "Epoch [4/50] → Train Loss G: 13.0092, Train Loss D: 0.6382, Val Loss G: 21.1647\n"
          ]
        },
        {
          "name": "stderr",
          "output_type": "stream",
          "text": [
            "                                                                                                                       "
          ]
        },
        {
          "name": "stdout",
          "output_type": "stream",
          "text": [
            "Epoch [5/50] → Train Loss G: 12.2951, Train Loss D: 0.6357, Val Loss G: 20.8928\n"
          ]
        },
        {
          "name": "stderr",
          "output_type": "stream",
          "text": [
            "                                                                                                                       "
          ]
        },
        {
          "name": "stdout",
          "output_type": "stream",
          "text": [
            "Epoch [6/50] → Train Loss G: 11.7821, Train Loss D: 0.6322, Val Loss G: 16.4516\n"
          ]
        },
        {
          "name": "stderr",
          "output_type": "stream",
          "text": [
            "                                                                                                                       "
          ]
        },
        {
          "name": "stdout",
          "output_type": "stream",
          "text": [
            "Epoch [7/50] → Train Loss G: 11.3899, Train Loss D: 0.6266, Val Loss G: 16.8972\n"
          ]
        },
        {
          "name": "stderr",
          "output_type": "stream",
          "text": [
            "                                                                                                                       "
          ]
        },
        {
          "name": "stdout",
          "output_type": "stream",
          "text": [
            "Epoch [8/50] → Train Loss G: 11.0832, Train Loss D: 0.6233, Val Loss G: 15.5537\n"
          ]
        },
        {
          "name": "stderr",
          "output_type": "stream",
          "text": [
            "                                                                                                                       "
          ]
        },
        {
          "name": "stdout",
          "output_type": "stream",
          "text": [
            "Epoch [9/50] → Train Loss G: 10.8990, Train Loss D: 0.6235, Val Loss G: 15.8126\n"
          ]
        },
        {
          "name": "stderr",
          "output_type": "stream",
          "text": [
            "                                                                                                                       "
          ]
        },
        {
          "name": "stdout",
          "output_type": "stream",
          "text": [
            "Epoch [10/50] → Train Loss G: 10.6131, Train Loss D: 0.6211, Val Loss G: 14.6106\n"
          ]
        },
        {
          "name": "stderr",
          "output_type": "stream",
          "text": [
            "                                                                                                                       "
          ]
        },
        {
          "name": "stdout",
          "output_type": "stream",
          "text": [
            "Epoch [11/50] → Train Loss G: 10.4796, Train Loss D: 0.6213, Val Loss G: 18.4400\n"
          ]
        },
        {
          "name": "stderr",
          "output_type": "stream",
          "text": [
            "                                                                                                                       "
          ]
        },
        {
          "name": "stdout",
          "output_type": "stream",
          "text": [
            "Epoch [12/50] → Train Loss G: 10.3111, Train Loss D: 0.6190, Val Loss G: 14.5934\n"
          ]
        },
        {
          "name": "stderr",
          "output_type": "stream",
          "text": [
            "                                                                                                                       "
          ]
        },
        {
          "name": "stdout",
          "output_type": "stream",
          "text": [
            "Epoch [13/50] → Train Loss G: 10.1601, Train Loss D: 0.6180, Val Loss G: 13.4469\n"
          ]
        },
        {
          "name": "stderr",
          "output_type": "stream",
          "text": [
            "                                                                                                                       "
          ]
        },
        {
          "name": "stdout",
          "output_type": "stream",
          "text": [
            "Epoch [14/50] → Train Loss G: 10.0842, Train Loss D: 0.6191, Val Loss G: 13.7507\n"
          ]
        },
        {
          "name": "stderr",
          "output_type": "stream",
          "text": [
            "                                                                                                                       "
          ]
        },
        {
          "name": "stdout",
          "output_type": "stream",
          "text": [
            "Epoch [15/50] → Train Loss G: 9.9414, Train Loss D: 0.6158, Val Loss G: 14.2137\n"
          ]
        },
        {
          "name": "stderr",
          "output_type": "stream",
          "text": [
            "                                                                                                                       "
          ]
        },
        {
          "name": "stdout",
          "output_type": "stream",
          "text": [
            "Epoch [16/50] → Train Loss G: 9.8953, Train Loss D: 0.6147, Val Loss G: 13.5786\n"
          ]
        },
        {
          "name": "stderr",
          "output_type": "stream",
          "text": [
            "                                                                                                                       "
          ]
        },
        {
          "name": "stdout",
          "output_type": "stream",
          "text": [
            "Epoch [17/50] → Train Loss G: 9.8727, Train Loss D: 0.6144, Val Loss G: 13.8913\n"
          ]
        },
        {
          "name": "stderr",
          "output_type": "stream",
          "text": [
            "                                                                                                                       "
          ]
        },
        {
          "name": "stdout",
          "output_type": "stream",
          "text": [
            "Epoch [18/50] → Train Loss G: 9.7234, Train Loss D: 0.6089, Val Loss G: 15.0550\n"
          ]
        },
        {
          "name": "stderr",
          "output_type": "stream",
          "text": [
            "                                                                                                                       "
          ]
        },
        {
          "name": "stdout",
          "output_type": "stream",
          "text": [
            "Epoch [19/50] → Train Loss G: 9.6752, Train Loss D: 0.6058, Val Loss G: 13.3974\n"
          ]
        },
        {
          "name": "stderr",
          "output_type": "stream",
          "text": [
            "                                                                                                                       "
          ]
        },
        {
          "name": "stdout",
          "output_type": "stream",
          "text": [
            "Epoch [20/50] → Train Loss G: 9.6091, Train Loss D: 0.6021, Val Loss G: 14.3298\n"
          ]
        },
        {
          "name": "stderr",
          "output_type": "stream",
          "text": [
            "                                                                                                                       "
          ]
        },
        {
          "name": "stdout",
          "output_type": "stream",
          "text": [
            "Epoch [21/50] → Train Loss G: 9.5301, Train Loss D: 0.6036, Val Loss G: 13.7577\n"
          ]
        },
        {
          "name": "stderr",
          "output_type": "stream",
          "text": [
            "                                                                                                                       "
          ]
        },
        {
          "name": "stdout",
          "output_type": "stream",
          "text": [
            "Epoch [22/50] → Train Loss G: 9.4948, Train Loss D: 0.6059, Val Loss G: 12.7850\n"
          ]
        },
        {
          "name": "stderr",
          "output_type": "stream",
          "text": [
            "                                                                                                                       "
          ]
        },
        {
          "name": "stdout",
          "output_type": "stream",
          "text": [
            "Epoch [23/50] → Train Loss G: 9.4202, Train Loss D: 0.5991, Val Loss G: 14.9501\n"
          ]
        },
        {
          "name": "stderr",
          "output_type": "stream",
          "text": [
            "                                                                                                                       "
          ]
        },
        {
          "name": "stdout",
          "output_type": "stream",
          "text": [
            "Epoch [24/50] → Train Loss G: 9.3662, Train Loss D: 0.6011, Val Loss G: 12.2608\n"
          ]
        },
        {
          "name": "stderr",
          "output_type": "stream",
          "text": [
            "                                                                                                                       "
          ]
        },
        {
          "name": "stdout",
          "output_type": "stream",
          "text": [
            "Epoch [25/50] → Train Loss G: 9.3472, Train Loss D: 0.5986, Val Loss G: 12.4577\n"
          ]
        },
        {
          "name": "stderr",
          "output_type": "stream",
          "text": [
            "                                                                                                                       "
          ]
        },
        {
          "name": "stdout",
          "output_type": "stream",
          "text": [
            "Epoch [26/50] → Train Loss G: 9.2903, Train Loss D: 0.5975, Val Loss G: 13.6876\n"
          ]
        },
        {
          "name": "stderr",
          "output_type": "stream",
          "text": [
            "                                                                                                                       "
          ]
        },
        {
          "name": "stdout",
          "output_type": "stream",
          "text": [
            "Epoch [27/50] → Train Loss G: 9.2608, Train Loss D: 0.5966, Val Loss G: 11.7478\n"
          ]
        },
        {
          "name": "stderr",
          "output_type": "stream",
          "text": [
            "                                                                                                                       "
          ]
        },
        {
          "name": "stdout",
          "output_type": "stream",
          "text": [
            "Epoch [28/50] → Train Loss G: 9.1765, Train Loss D: 0.5943, Val Loss G: 13.0387\n"
          ]
        },
        {
          "name": "stderr",
          "output_type": "stream",
          "text": [
            "                                                                                                                       "
          ]
        },
        {
          "name": "stdout",
          "output_type": "stream",
          "text": [
            "Epoch [29/50] → Train Loss G: 9.1639, Train Loss D: 0.5937, Val Loss G: 12.3631\n"
          ]
        },
        {
          "name": "stderr",
          "output_type": "stream",
          "text": [
            "                                                                                                                       "
          ]
        },
        {
          "name": "stdout",
          "output_type": "stream",
          "text": [
            "Epoch [30/50] → Train Loss G: 9.1167, Train Loss D: 0.5899, Val Loss G: 12.2733\n"
          ]
        },
        {
          "name": "stderr",
          "output_type": "stream",
          "text": [
            "                                                                                                                       "
          ]
        },
        {
          "name": "stdout",
          "output_type": "stream",
          "text": [
            "Epoch [31/50] → Train Loss G: 9.0604, Train Loss D: 0.5922, Val Loss G: 12.8023\n"
          ]
        },
        {
          "name": "stderr",
          "output_type": "stream",
          "text": [
            "                                                                                                                       "
          ]
        },
        {
          "name": "stdout",
          "output_type": "stream",
          "text": [
            "Epoch [32/50] → Train Loss G: 9.0430, Train Loss D: 0.5953, Val Loss G: 11.8669\n"
          ]
        },
        {
          "name": "stderr",
          "output_type": "stream",
          "text": [
            "                                                                                                                       "
          ]
        },
        {
          "name": "stdout",
          "output_type": "stream",
          "text": [
            "Epoch [33/50] → Train Loss G: 9.0069, Train Loss D: 0.5906, Val Loss G: 12.6243\n"
          ]
        },
        {
          "name": "stderr",
          "output_type": "stream",
          "text": [
            "                                                                                                                       "
          ]
        },
        {
          "name": "stdout",
          "output_type": "stream",
          "text": [
            "Epoch [34/50] → Train Loss G: 8.9827, Train Loss D: 0.5939, Val Loss G: 19.0825\n"
          ]
        },
        {
          "name": "stderr",
          "output_type": "stream",
          "text": [
            "                                                                                                                       "
          ]
        },
        {
          "name": "stdout",
          "output_type": "stream",
          "text": [
            "Epoch [35/50] → Train Loss G: 8.9269, Train Loss D: 0.5897, Val Loss G: 12.0417\n"
          ]
        },
        {
          "name": "stderr",
          "output_type": "stream",
          "text": [
            "                                                                                                                       "
          ]
        },
        {
          "name": "stdout",
          "output_type": "stream",
          "text": [
            "Epoch [36/50] → Train Loss G: 8.9329, Train Loss D: 0.5882, Val Loss G: 11.5015\n"
          ]
        },
        {
          "name": "stderr",
          "output_type": "stream",
          "text": [
            "                                                                                                                       "
          ]
        },
        {
          "name": "stdout",
          "output_type": "stream",
          "text": [
            "Epoch [37/50] → Train Loss G: 8.8949, Train Loss D: 0.5871, Val Loss G: 14.8559\n"
          ]
        },
        {
          "name": "stderr",
          "output_type": "stream",
          "text": [
            "                                                                                                                       "
          ]
        },
        {
          "name": "stdout",
          "output_type": "stream",
          "text": [
            "Epoch [38/50] → Train Loss G: 8.8366, Train Loss D: 0.5884, Val Loss G: 11.9592\n"
          ]
        },
        {
          "name": "stderr",
          "output_type": "stream",
          "text": [
            "                                                                                                                       "
          ]
        },
        {
          "name": "stdout",
          "output_type": "stream",
          "text": [
            "Epoch [39/50] → Train Loss G: 8.8059, Train Loss D: 0.5887, Val Loss G: 12.5453\n"
          ]
        },
        {
          "name": "stderr",
          "output_type": "stream",
          "text": [
            "                                                                                                                       "
          ]
        },
        {
          "name": "stdout",
          "output_type": "stream",
          "text": [
            "Epoch [40/50] → Train Loss G: 8.7580, Train Loss D: 0.5910, Val Loss G: 13.9424\n"
          ]
        },
        {
          "name": "stderr",
          "output_type": "stream",
          "text": [
            "                                                                                                                       "
          ]
        },
        {
          "name": "stdout",
          "output_type": "stream",
          "text": [
            "Epoch [41/50] → Train Loss G: 8.7528, Train Loss D: 0.5900, Val Loss G: 12.5603\n"
          ]
        },
        {
          "name": "stderr",
          "output_type": "stream",
          "text": [
            "                                                                                                                       "
          ]
        },
        {
          "name": "stdout",
          "output_type": "stream",
          "text": [
            "Epoch [42/50] → Train Loss G: 8.7134, Train Loss D: 0.5934, Val Loss G: 13.9400\n"
          ]
        },
        {
          "name": "stderr",
          "output_type": "stream",
          "text": [
            "                                                                                                                       "
          ]
        },
        {
          "name": "stdout",
          "output_type": "stream",
          "text": [
            "Epoch [43/50] → Train Loss G: 8.7302, Train Loss D: 0.5895, Val Loss G: 12.1965\n"
          ]
        },
        {
          "name": "stderr",
          "output_type": "stream",
          "text": [
            "                                                                                                                       "
          ]
        },
        {
          "name": "stdout",
          "output_type": "stream",
          "text": [
            "Epoch [44/50] → Train Loss G: 8.6677, Train Loss D: 0.5879, Val Loss G: 12.5254\n"
          ]
        },
        {
          "name": "stderr",
          "output_type": "stream",
          "text": [
            "                                                                                                                       "
          ]
        },
        {
          "name": "stdout",
          "output_type": "stream",
          "text": [
            "Epoch [45/50] → Train Loss G: 8.6651, Train Loss D: 0.5887, Val Loss G: 13.1377\n"
          ]
        },
        {
          "name": "stderr",
          "output_type": "stream",
          "text": [
            "                                                                                                                       "
          ]
        },
        {
          "name": "stdout",
          "output_type": "stream",
          "text": [
            "Epoch [46/50] → Train Loss G: 8.5937, Train Loss D: 0.5871, Val Loss G: 12.5238\n"
          ]
        },
        {
          "name": "stderr",
          "output_type": "stream",
          "text": [
            "                                                                                                                       "
          ]
        },
        {
          "name": "stdout",
          "output_type": "stream",
          "text": [
            "Epoch [47/50] → Train Loss G: 8.5901, Train Loss D: 0.5848, Val Loss G: 12.6463\n"
          ]
        },
        {
          "name": "stderr",
          "output_type": "stream",
          "text": [
            "                                                                                                                       "
          ]
        },
        {
          "name": "stdout",
          "output_type": "stream",
          "text": [
            "Epoch [48/50] → Train Loss G: 8.5892, Train Loss D: 0.5882, Val Loss G: 11.8125\n"
          ]
        },
        {
          "name": "stderr",
          "output_type": "stream",
          "text": [
            "                                                                                                                       "
          ]
        },
        {
          "name": "stdout",
          "output_type": "stream",
          "text": [
            "Epoch [49/50] → Train Loss G: 8.5362, Train Loss D: 0.5862, Val Loss G: 12.6134\n"
          ]
        },
        {
          "name": "stderr",
          "output_type": "stream",
          "text": [
            "                                                                                                                       "
          ]
        },
        {
          "name": "stdout",
          "output_type": "stream",
          "text": [
            "Epoch [50/50] → Train Loss G: 8.5298, Train Loss D: 0.5850, Val Loss G: 11.7684\n",
            "Training Completed! 🎉\n"
          ]
        }
      ],
      "source": [
        "import torch\n",
        "import torch.nn as nn\n",
        "import torch.optim as optim\n",
        "import torch.utils.data as data\n",
        "import torchvision.transforms as transforms\n",
        "import os\n",
        "from torch.amp import GradScaler, autocast  # ✅ Fixed Import\n",
        "from torch.utils.data import DataLoader\n",
        "from torchvision.utils import save_image\n",
        "from tqdm import tqdm  # ✅ Added Progress Bar\n",
        "\n",
        "# --- Device Configuration ---\n",
        "device = \"cuda\" if torch.cuda.is_available() else \"cpu\"\n",
        "\n",
        "# --- Define Model (Generator & Discriminator) ---\n",
        "generator = UNetGenerator().to(device)\n",
        "discriminator = MultiScaleDiscriminator().to(device)\n",
        "\n",
        "# --- Loss Functions ---\n",
        "bce_loss = nn.BCEWithLogitsLoss()\n",
        "l1_loss = nn.L1Loss()\n",
        "\n",
        "# --- Optimizers ---\n",
        "optimizer_G = optim.Adam(generator.parameters(), lr=1e-4, betas=(0.5, 0.999))\n",
        "optimizer_D = optim.Adam(discriminator.parameters(), lr=1e-4, betas=(0.5, 0.999))\n",
        "\n",
        "# --- AMP Mixed Precision Scaler ---\n",
        "scaler = GradScaler(\"cuda\")\n",
        "\n",
        "# --- Checkpoint & Output Directory ---\n",
        "checkpoint_dir = \"./checkpoints\"\n",
        "output_dir = \"./output_images\"\n",
        "os.makedirs(checkpoint_dir, exist_ok=True)\n",
        "os.makedirs(output_dir, exist_ok=True)  # ✅ Ensure output directory exists\n",
        "\n",
        "# --- Training Loop ---\n",
        "num_epochs = 50\n",
        "train_loader = DataLoader(train_dataset, batch_size=1, shuffle=True)\n",
        "val_loader = DataLoader(val_dataset, batch_size=1, shuffle=False)\n",
        "\n",
        "for epoch in range(num_epochs):\n",
        "    generator.train()\n",
        "    discriminator.train()\n",
        "\n",
        "    epoch_loss_G, epoch_loss_D = 0, 0  # ✅ Track losses\n",
        "\n",
        "    # ✅ Progress Bar for Training\n",
        "    train_progress = tqdm(train_loader, desc=f\"Epoch [{epoch+1}/{num_epochs}]\", leave=False)\n",
        "\n",
        "    for real_images, real_masks in train_progress:\n",
        "        real_images, real_masks = real_images.to(device), real_masks.to(device)\n",
        "\n",
        "        # --- Train Discriminator ---\n",
        "        optimizer_D.zero_grad()\n",
        "        with autocast(\"cuda\"):  # ✅ Fixed AMP usage\n",
        "            fake_masks = generator(real_images)\n",
        "\n",
        "            disc_real_inputs = torch.cat((real_images, real_masks), dim=1)\n",
        "            disc_fake_inputs = torch.cat((real_images, fake_masks.detach()), dim=1)\n",
        "\n",
        "            disc_real_outputs = discriminator(disc_real_inputs)\n",
        "            disc_fake_outputs = discriminator(disc_fake_inputs)\n",
        "\n",
        "            loss_D_real = sum(bce_loss(out, torch.ones_like(out)) for out in disc_real_outputs) / len(disc_real_outputs)\n",
        "            loss_D_fake = sum(bce_loss(out, torch.zeros_like(out)) for out in disc_fake_outputs) / len(disc_fake_outputs)\n",
        "            loss_D = (loss_D_real + loss_D_fake) * 0.5\n",
        "\n",
        "        scaler.scale(loss_D).backward()\n",
        "        scaler.step(optimizer_D)\n",
        "        scaler.update()\n",
        "\n",
        "        # --- Train Generator ---\n",
        "        optimizer_G.zero_grad()\n",
        "        with autocast(\"cuda\"):  # ✅ Fixed AMP usage\n",
        "            fake_masks = generator(real_images)\n",
        "\n",
        "            disc_fake_inputs = torch.cat((real_images, fake_masks), dim=1)\n",
        "            disc_fake_outputs = discriminator(disc_fake_inputs)\n",
        "\n",
        "            loss_G_GAN = sum(bce_loss(out, torch.ones_like(out)) for out in disc_fake_outputs) / len(disc_fake_outputs)\n",
        "            loss_G_L1 = l1_loss(fake_masks, real_masks) * 100\n",
        "            loss_G = loss_G_GAN + loss_G_L1\n",
        "\n",
        "        scaler.scale(loss_G).backward()\n",
        "        scaler.step(optimizer_G)\n",
        "        scaler.update()\n",
        "\n",
        "        # ✅ Track Epoch Losses\n",
        "        epoch_loss_D += loss_D.item()\n",
        "        epoch_loss_G += loss_G.item()\n",
        "\n",
        "    # ✅ Compute Average Training Losses\n",
        "    avg_train_loss_G = epoch_loss_G / len(train_loader)\n",
        "    avg_train_loss_D = epoch_loss_D / len(train_loader)\n",
        "\n",
        "    # --- Validation ---\n",
        "    generator.eval()\n",
        "    val_loss_G = 0  # ✅ Track Validation Loss\n",
        "    with torch.no_grad():\n",
        "        for val_images, val_masks in val_loader:\n",
        "            val_images, val_masks = val_images.to(device), val_masks.to(device)\n",
        "            fake_masks = generator(val_images)\n",
        "\n",
        "            disc_fake_inputs = torch.cat((val_images, fake_masks), dim=1)\n",
        "            disc_fake_outputs = discriminator(disc_fake_inputs)\n",
        "\n",
        "            loss_G_GAN_val = sum(bce_loss(out, torch.ones_like(out)) for out in disc_fake_outputs) / len(disc_fake_outputs)\n",
        "            loss_G_L1_val = l1_loss(fake_masks, val_masks) * 100\n",
        "            loss_G_val = loss_G_GAN_val + loss_G_L1_val  # ✅ Total Validation Loss\n",
        "\n",
        "            val_loss_G += loss_G_val.item()\n",
        "\n",
        "            # ✅ Save Sample Validation Image (Ensure Directory Exists)\n",
        "            save_path = os.path.join(output_dir, f\"epoch_{epoch}_sample.png\")\n",
        "            save_image(fake_masks, save_path)\n",
        "\n",
        "    # ✅ Compute Average Validation Loss\n",
        "    avg_val_loss_G = val_loss_G / len(val_loader)\n",
        "\n",
        "    # ✅ Print Epoch Summary (Single Log Per Epoch)\n",
        "    print(f\"Epoch [{epoch+1}/{num_epochs}] → \"\n",
        "          f\"Train Loss G: {avg_train_loss_G:.4f}, Train Loss D: {avg_train_loss_D:.4f}, \"\n",
        "          f\"Val Loss G: {avg_val_loss_G:.4f}\")\n",
        "\n",
        "    # --- Save Model Checkpoint ---\n",
        "    torch.save(generator.state_dict(), os.path.join(checkpoint_dir, f\"generator_epoch_{epoch+1}.pth\"))\n",
        "    torch.save(discriminator.state_dict(), os.path.join(checkpoint_dir, f\"discriminator_epoch_{epoch+1}.pth\"))\n",
        "\n",
        "print(\"Training Completed! 🎉\")\n"
      ]
    },
    {
      "cell_type": "code",
      "execution_count": null,
      "id": "8d2756be-a7b7-4c7f-bbdc-6105cad6b257",
      "metadata": {
        "id": "8d2756be-a7b7-4c7f-bbdc-6105cad6b257",
        "outputId": "e0066cdc-50e3-49d8-86e0-15f4324ec793"
      },
      "outputs": [
        {
          "name": "stdout",
          "output_type": "stream",
          "text": [
            "Model saved to generator_model.pth\n"
          ]
        }
      ],
      "source": [
        "# Define save path\n",
        "MODEL_SAVE_PATH = \"generator_model.pth\"\n",
        "\n",
        "# Save the trained generator model\n",
        "torch.save(generator.state_dict(), MODEL_SAVE_PATH)\n",
        "print(f\"Model saved to {MODEL_SAVE_PATH}\")\n"
      ]
    },
    {
      "cell_type": "code",
      "execution_count": null,
      "id": "129df057-6f38-4d2b-af0b-cf7c84c8bed0",
      "metadata": {
        "id": "129df057-6f38-4d2b-af0b-cf7c84c8bed0",
        "outputId": "36628d66-38ea-42be-f64a-d44bc298970d"
      },
      "outputs": [
        {
          "name": "stdout",
          "output_type": "stream",
          "text": [
            "Discriminator saved to discriminator_model.pth\n"
          ]
        }
      ],
      "source": [
        "# Define save path for the discriminator\n",
        "DISCRIMINATOR_SAVE_PATH = \"discriminator_model.pth\"\n",
        "\n",
        "# Save the trained discriminator model\n",
        "torch.save(discriminator.state_dict(), DISCRIMINATOR_SAVE_PATH)\n",
        "\n",
        "print(f\"Discriminator saved to {DISCRIMINATOR_SAVE_PATH}\")\n"
      ]
    },
    {
      "cell_type": "code",
      "execution_count": null,
      "id": "49a6c405-bccd-4a89-bad8-de95adf3291b",
      "metadata": {
        "id": "49a6c405-bccd-4a89-bad8-de95adf3291b"
      },
      "outputs": [],
      "source": [
        "# Create Test Dataset with Same Transformations\n",
        "class TestDataset(Dataset):\n",
        "    def __init__(self, image_dir, label_dir, transform=None):\n",
        "        self.image_dir = image_dir\n",
        "        self.label_dir = label_dir\n",
        "        self.transform = transform\n",
        "        self.image_filenames = sorted(os.listdir(image_dir))\n",
        "        self.label_filenames = sorted(os.listdir(label_dir))\n",
        "\n",
        "        # Ensure filenames match\n",
        "        assert len(self.image_filenames) == len(self.label_filenames), \"Mismatch in test dataset size!\"\n",
        "        assert all(img.split('.')[0] == lbl.split('.')[0]\n",
        "                   for img, lbl in zip(self.image_filenames, self.label_filenames)), \"Image and mask filenames do not match!\"\n",
        "\n",
        "    def __len__(self):\n",
        "        return len(self.image_filenames)\n",
        "\n",
        "    def __getitem__(self, idx):\n",
        "        img_path = os.path.join(self.image_dir, self.image_filenames[idx])\n",
        "        label_path = os.path.join(self.label_dir, self.label_filenames[idx])\n",
        "\n",
        "        image = Image.open(img_path).convert(\"RGB\")\n",
        "        label = Image.open(label_path).convert(\"L\")  # Convert to grayscale (single channel)\n",
        "\n",
        "        if self.transform:\n",
        "            image, label = self.transform(image, label)  # Apply same preprocessing\n",
        "\n",
        "        return image, label\n",
        "\n",
        "# Define a function to get the Test DataLoader\n",
        "def get_test_dataloader(batch_size=1):\n",
        "    transform = PairedTransform(image_size=128)  # ✅ Same as training\n",
        "\n",
        "    test_dataset = TestDataset(\n",
        "        image_dir=os.path.join(DATASET_PATH, \"test\"),\n",
        "        label_dir=os.path.join(DATASET_PATH, \"test_labels\"),\n",
        "        transform=transform,\n",
        "    )\n",
        "\n",
        "    test_loader = DataLoader(test_dataset, batch_size=batch_size, shuffle=False, num_workers=0, pin_memory=True)\n",
        "\n",
        "    return test_dataset, test_loader\n"
      ]
    },
    {
      "cell_type": "code",
      "execution_count": null,
      "id": "36e31528-8ab0-47e4-b0f4-b3d7a4610aa2",
      "metadata": {
        "id": "36e31528-8ab0-47e4-b0f4-b3d7a4610aa2",
        "outputId": "4694d338-f9f8-4abb-83ad-92b8e1df3fde"
      },
      "outputs": [
        {
          "name": "stdout",
          "output_type": "stream",
          "text": [
            "Test Image Shape: torch.Size([1, 3, 128, 128])\n",
            "Test Label Shape: torch.Size([1, 1, 128, 128])\n"
          ]
        }
      ],
      "source": [
        "test_dataset, test_loader = get_test_dataloader(batch_size=1)\n",
        "\n",
        "# Check a sample\n",
        "test_img, test_label = next(iter(test_loader))\n",
        "print(\"Test Image Shape:\", test_img.shape)  # ✅ Expected: (1, 3, 128, 128)\n",
        "print(\"Test Label Shape:\", test_label.shape)  # ✅ Expected: (1, 1, 128, 128)\n"
      ]
    },
    {
      "cell_type": "code",
      "execution_count": null,
      "id": "6d72dd3c-a630-4ef5-8158-8534fb337d03",
      "metadata": {
        "id": "6d72dd3c-a630-4ef5-8158-8534fb337d03",
        "outputId": "c2cfc605-f0e7-4adc-91bf-a2d4467e50ae"
      },
      "outputs": [
        {
          "name": "stderr",
          "output_type": "stream",
          "text": [
            "Clipping input data to the valid range for imshow with RGB data ([0..1] for floats or [0..255] for integers). Got range [-0.84313726..0.5137255].\n"
          ]
        },
        {
          "data": {
            "image/png": "[encoded data removed]",
            "text/plain": [
              "<Figure size 1200x400 with 3 Axes>"
            ]
          },
          "metadata": {},
          "output_type": "display_data"
        }
      ],
      "source": [
        "import matplotlib.pyplot as plt\n",
        "import numpy as np\n",
        "import torch\n",
        "\n",
        "# Function to show results\n",
        "def show_prediction(image, true_mask, model):\n",
        "    image = image.to(device).unsqueeze(0)  # Add batch dimension\n",
        "\n",
        "    with torch.no_grad():\n",
        "        pred_mask = model(image)\n",
        "        pred_mask = torch.sigmoid(pred_mask).cpu().numpy()[0, 0]  # Convert to numpy\n",
        "\n",
        "    image = image.cpu().squeeze().permute(1, 2, 0).numpy()  # Convert tensor to numpy\n",
        "   # image = np.clip(image, 0, 1)  # Ensure values are in range [0,1]\n",
        "\n",
        "    true_mask = true_mask.cpu().squeeze().numpy()  # Convert tensor to numpy\n",
        "    pred_mask = np.clip(pred_mask, 0, 1)  # Clip prediction\n",
        "\n",
        "    # Plot results\n",
        "    plt.figure(figsize=(12, 4))\n",
        "\n",
        "    plt.subplot(1, 3, 1)\n",
        "    plt.imshow(image)  # No more errors!\n",
        "    plt.title(\"Satellite Image\")\n",
        "\n",
        "    plt.subplot(1, 3, 2)\n",
        "    plt.imshow(true_mask, cmap=\"gray\")\n",
        "    plt.title(\"Ground Truth\")\n",
        "\n",
        "    plt.subplot(1, 3, 3)\n",
        "    plt.imshow(pred_mask, cmap=\"gray\")\n",
        "    plt.title(\"Predicted Map\")\n",
        "\n",
        "    plt.show()\n",
        "\n",
        "# Test on one image\n",
        "test_img, test_label = next(iter(test_loader))  # Get a sample from the test set\n",
        "show_prediction(test_img[0], test_label[0], generator)\n"
      ]
    },
    {
      "cell_type": "code",
      "source": [],
      "metadata": {
        "id": "zZ54k4mhfYUc"
      },
      "id": "zZ54k4mhfYUc",
      "execution_count": null,
      "outputs": []
    },
    {
      "cell_type": "code",
      "source": [
        "\n",
        "import torch\n",
        "\n",
        "# Function to calculate pixel accuracy\n",
        "def pixel_accuracy(pred_mask, true_mask):\n",
        "    pred_binary = (pred_mask > 0.5).float()  # Convert to binary mask (threshold at 0.5)\n",
        "    correct = (pred_binary == true_mask).sum().item()\n",
        "    total = true_mask.numel()\n",
        "    return correct / total  # Pixel accuracy\n",
        "\n",
        "# Function to calculate IoU (Jaccard Index)\n",
        "def iou_score(pred_mask, true_mask):\n",
        "    pred_binary = (pred_mask > 0.5).float()\n",
        "    intersection = (pred_binary * true_mask).sum().item()\n",
        "    union = (pred_binary + true_mask).clamp(0, 1).sum().item()\n",
        "    return intersection / union if union != 0 else 1  # Avoid division by zero\n",
        "\n",
        "# Function to calculate Dice Score\n",
        "def dice_score(pred_mask, true_mask):\n",
        "    pred_binary = (pred_mask > 0.5).float()\n",
        "    intersection = (pred_binary * true_mask).sum().item()\n",
        "    return (2. * intersection) / (pred_binary.sum().item() + true_mask.sum().item())\n",
        "\n",
        "# Function to evaluate the model on one image\n",
        "def evaluate_model(image, true_mask, model):\n",
        "    image = image.to(device).unsqueeze(0)  # Add batch dimension\n",
        "    true_mask = true_mask.to(device)\n",
        "\n",
        "    with torch.no_grad():\n",
        "        pred_mask = model(image)\n",
        "        pred_mask = torch.sigmoid(pred_mask).cpu().squeeze()  # Convert to numpy\n",
        "\n",
        "    # Convert ground truth to binary mask\n",
        "    true_mask = (true_mask.cpu().squeeze() / 255.0).float()  # Normalize to 0-1\n",
        "\n",
        "    # Compute metrics\n",
        "    acc = pixel_accuracy(pred_mask, true_mask)\n",
        "    iou = iou_score(pred_mask, true_mask)\n",
        "    dice = dice_score(pred_mask, true_mask)\n",
        "\n",
        "    print(f\"Pixel Accuracy: {acc:.4f}\")\n",
        "\n",
        "\n",
        "    return acc\n",
        "\n",
        "# Test on one image\n",
        "test_img, test_label = next(iter(test_loader))  # Get a sample from the test set\n",
        "evaluate_model(test_img[0], test_label[0], generator)\n"
      ],
      "metadata": {
        "colab": {
          "base_uri": "https://localhost:8080/"
        },
        "id": "3A08vSKmfOJh",
        "outputId": "7e519a26-48a7-40a3-a3db-895ff6c478a4"
      },
      "execution_count": null,
      "outputs": [
        {
          "output_type": "stream",
          "name": "stdout",
          "text": [
            "Pixel Accuracy: 0.8163\n"
          ]
        }
      ],
      "id": "3A08vSKmfOJh"
    },
    {
      "cell_type": "code",
      "execution_count": null,
      "id": "5b26e4c4-b798-41b4-9554-8d690221ba7b",
      "metadata": {
        "id": "5b26e4c4-b798-41b4-9554-8d690221ba7b"
      },
      "outputs": [],
      "source": [
        "import torch\n",
        "import torch.optim as optim\n",
        "from tqdm import tqdm\n",
        "from torch.amp import autocast, GradScaler\n"
      ]
    },
    {
      "cell_type": "code",
      "execution_count": null,
      "id": "922d2fcb-cda0-4072-a4e3-c0a62cd2e21c",
      "metadata": {
        "id": "922d2fcb-cda0-4072-a4e3-c0a62cd2e21c"
      },
      "outputs": [],
      "source": [
        "import torch.nn as nn\n",
        "\n",
        "# Loss Functions\n",
        "bce_loss = nn.BCEWithLogitsLoss()\n",
        "l1_loss = nn.L1Loss()\n"
      ]
    },
    {
      "cell_type": "code",
      "execution_count": null,
      "id": "c52c6716-2e72-4f76-b35b-cfcb12b648b7",
      "metadata": {
        "id": "c52c6716-2e72-4f76-b35b-cfcb12b648b7"
      },
      "outputs": [],
      "source": [
        "from torch.amp import GradScaler\n",
        "\n",
        "scaler = GradScaler(\"cuda\")\n"
      ]
    },
    {
      "cell_type": "code",
      "execution_count": null,
      "id": "1065fcf6-5939-4165-be34-18a687ee51a0",
      "metadata": {
        "id": "1065fcf6-5939-4165-be34-18a687ee51a0"
      },
      "outputs": [],
      "source": [
        "import os\n",
        "\n",
        "checkpoint_dir = \"./checkpoints\"\n",
        "output_dir = \"./output_images\"\n",
        "\n",
        "os.makedirs(checkpoint_dir, exist_ok=True)\n",
        "os.makedirs(output_dir, exist_ok=True)\n"
      ]
    },
    {
      "cell_type": "code",
      "execution_count": null,
      "id": "15ab1c2a-b329-426c-8b29-a206d5adbe5b",
      "metadata": {
        "id": "15ab1c2a-b329-426c-8b29-a206d5adbe5b"
      },
      "outputs": [],
      "source": [
        "from torchvision.utils import save_image\n"
      ]
    },
    {
      "cell_type": "code",
      "execution_count": null,
      "id": "6d07d571-4a46-4f12-9606-eec8a5d89209",
      "metadata": {
        "id": "6d07d571-4a46-4f12-9606-eec8a5d89209",
        "outputId": "29f61510-9f31-4ce2-cc6a-3f7f97b30f33"
      },
      "outputs": [
        {
          "name": "stderr",
          "output_type": "stream",
          "text": [
            "                                                                                                                       "
          ]
        },
        {
          "name": "stdout",
          "output_type": "stream",
          "text": [
            "Epoch [51/80] → Train Loss G: 8.4912, Train Loss D: 0.5877, Val Loss G: 11.9051\n"
          ]
        },
        {
          "name": "stderr",
          "output_type": "stream",
          "text": [
            "                                                                                                                       "
          ]
        },
        {
          "name": "stdout",
          "output_type": "stream",
          "text": [
            "Epoch [52/80] → Train Loss G: 8.4852, Train Loss D: 0.5843, Val Loss G: 11.8807\n"
          ]
        },
        {
          "name": "stderr",
          "output_type": "stream",
          "text": [
            "                                                                                                                       "
          ]
        },
        {
          "name": "stdout",
          "output_type": "stream",
          "text": [
            "Epoch [53/80] → Train Loss G: 8.4186, Train Loss D: 0.5849, Val Loss G: 11.7740\n"
          ]
        },
        {
          "name": "stderr",
          "output_type": "stream",
          "text": [
            "                                                                                                                       "
          ]
        },
        {
          "name": "stdout",
          "output_type": "stream",
          "text": [
            "Epoch [54/80] → Train Loss G: 8.4109, Train Loss D: 0.5847, Val Loss G: 12.4249\n"
          ]
        },
        {
          "name": "stderr",
          "output_type": "stream",
          "text": [
            "                                                                                                                       "
          ]
        },
        {
          "name": "stdout",
          "output_type": "stream",
          "text": [
            "Epoch [55/80] → Train Loss G: 8.3976, Train Loss D: 0.5847, Val Loss G: 13.8105\n"
          ]
        },
        {
          "name": "stderr",
          "output_type": "stream",
          "text": [
            "                                                                                                                       "
          ]
        },
        {
          "name": "stdout",
          "output_type": "stream",
          "text": [
            "Epoch [56/80] → Train Loss G: 8.3838, Train Loss D: 0.5863, Val Loss G: 12.5921\n"
          ]
        },
        {
          "name": "stderr",
          "output_type": "stream",
          "text": [
            "                                                                                                                       "
          ]
        },
        {
          "name": "stdout",
          "output_type": "stream",
          "text": [
            "Epoch [57/80] → Train Loss G: 8.3533, Train Loss D: 0.5824, Val Loss G: 13.7195\n"
          ]
        },
        {
          "name": "stderr",
          "output_type": "stream",
          "text": [
            "                                                                                                                       "
          ]
        },
        {
          "name": "stdout",
          "output_type": "stream",
          "text": [
            "Epoch [58/80] → Train Loss G: 8.3510, Train Loss D: 0.5833, Val Loss G: 12.4517\n"
          ]
        },
        {
          "name": "stderr",
          "output_type": "stream",
          "text": [
            "                                                                                                                       "
          ]
        },
        {
          "name": "stdout",
          "output_type": "stream",
          "text": [
            "Epoch [59/80] → Train Loss G: 8.2890, Train Loss D: 0.5827, Val Loss G: 13.1739\n"
          ]
        },
        {
          "name": "stderr",
          "output_type": "stream",
          "text": [
            "                                                                                                                       "
          ]
        },
        {
          "name": "stdout",
          "output_type": "stream",
          "text": [
            "Epoch [60/80] → Train Loss G: 8.2990, Train Loss D: 0.5844, Val Loss G: 12.1436\n"
          ]
        },
        {
          "name": "stderr",
          "output_type": "stream",
          "text": [
            "                                                                                                                       "
          ]
        },
        {
          "name": "stdout",
          "output_type": "stream",
          "text": [
            "Epoch [61/80] → Train Loss G: 8.2581, Train Loss D: 0.5827, Val Loss G: 11.5447\n"
          ]
        },
        {
          "name": "stderr",
          "output_type": "stream",
          "text": [
            "                                                                                                                       "
          ]
        },
        {
          "name": "stdout",
          "output_type": "stream",
          "text": [
            "Epoch [62/80] → Train Loss G: 8.2530, Train Loss D: 0.5835, Val Loss G: 11.3934\n"
          ]
        },
        {
          "name": "stderr",
          "output_type": "stream",
          "text": [
            "                                                                                                                       "
          ]
        },
        {
          "name": "stdout",
          "output_type": "stream",
          "text": [
            "Epoch [63/80] → Train Loss G: 8.2035, Train Loss D: 0.5816, Val Loss G: 12.4075\n"
          ]
        },
        {
          "name": "stderr",
          "output_type": "stream",
          "text": [
            "                                                                                                                       "
          ]
        },
        {
          "name": "stdout",
          "output_type": "stream",
          "text": [
            "Epoch [64/80] → Train Loss G: 8.2295, Train Loss D: 0.5822, Val Loss G: 11.8174\n"
          ]
        },
        {
          "name": "stderr",
          "output_type": "stream",
          "text": [
            "                                                                                                                       "
          ]
        },
        {
          "name": "stdout",
          "output_type": "stream",
          "text": [
            "Epoch [65/80] → Train Loss G: 8.1912, Train Loss D: 0.5840, Val Loss G: 13.1421\n"
          ]
        },
        {
          "name": "stderr",
          "output_type": "stream",
          "text": [
            "                                                                                                                       "
          ]
        },
        {
          "name": "stdout",
          "output_type": "stream",
          "text": [
            "Epoch [66/80] → Train Loss G: 8.1577, Train Loss D: 0.5801, Val Loss G: 12.6432\n"
          ]
        },
        {
          "name": "stderr",
          "output_type": "stream",
          "text": [
            "                                                                                                                       "
          ]
        },
        {
          "name": "stdout",
          "output_type": "stream",
          "text": [
            "Epoch [67/80] → Train Loss G: 8.1464, Train Loss D: 0.5829, Val Loss G: 13.0538\n"
          ]
        },
        {
          "name": "stderr",
          "output_type": "stream",
          "text": [
            "                                                                                                                       "
          ]
        },
        {
          "name": "stdout",
          "output_type": "stream",
          "text": [
            "Epoch [68/80] → Train Loss G: 8.1359, Train Loss D: 0.5818, Val Loss G: 12.4653\n"
          ]
        },
        {
          "name": "stderr",
          "output_type": "stream",
          "text": [
            "                                                                                                                       "
          ]
        },
        {
          "name": "stdout",
          "output_type": "stream",
          "text": [
            "Epoch [69/80] → Train Loss G: 8.0955, Train Loss D: 0.5826, Val Loss G: 11.7406\n"
          ]
        },
        {
          "name": "stderr",
          "output_type": "stream",
          "text": [
            "                                                                                                                       "
          ]
        },
        {
          "name": "stdout",
          "output_type": "stream",
          "text": [
            "Epoch [70/80] → Train Loss G: 8.0957, Train Loss D: 0.5819, Val Loss G: 11.9977\n"
          ]
        },
        {
          "name": "stderr",
          "output_type": "stream",
          "text": [
            "                                                                                                                       "
          ]
        },
        {
          "name": "stdout",
          "output_type": "stream",
          "text": [
            "Epoch [71/80] → Train Loss G: 8.0665, Train Loss D: 0.5796, Val Loss G: 12.3055\n"
          ]
        },
        {
          "name": "stderr",
          "output_type": "stream",
          "text": [
            "                                                                                                                       "
          ]
        },
        {
          "name": "stdout",
          "output_type": "stream",
          "text": [
            "Epoch [72/80] → Train Loss G: 8.0236, Train Loss D: 0.5821, Val Loss G: 12.0415\n"
          ]
        },
        {
          "name": "stderr",
          "output_type": "stream",
          "text": [
            "                                                                                                                       "
          ]
        },
        {
          "name": "stdout",
          "output_type": "stream",
          "text": [
            "Epoch [73/80] → Train Loss G: 8.0157, Train Loss D: 0.5826, Val Loss G: 11.3223\n"
          ]
        },
        {
          "name": "stderr",
          "output_type": "stream",
          "text": [
            "                                                                                                                       "
          ]
        },
        {
          "name": "stdout",
          "output_type": "stream",
          "text": [
            "Epoch [74/80] → Train Loss G: 8.0027, Train Loss D: 0.5798, Val Loss G: 11.9921\n"
          ]
        },
        {
          "name": "stderr",
          "output_type": "stream",
          "text": [
            "                                                                                                                       "
          ]
        },
        {
          "name": "stdout",
          "output_type": "stream",
          "text": [
            "Epoch [75/80] → Train Loss G: 7.9853, Train Loss D: 0.5788, Val Loss G: 12.2727\n"
          ]
        },
        {
          "name": "stderr",
          "output_type": "stream",
          "text": [
            "                                                                                                                       "
          ]
        },
        {
          "name": "stdout",
          "output_type": "stream",
          "text": [
            "Epoch [76/80] → Train Loss G: 7.9879, Train Loss D: 0.5797, Val Loss G: 12.0192\n"
          ]
        },
        {
          "name": "stderr",
          "output_type": "stream",
          "text": [
            "                                                                                                                       "
          ]
        },
        {
          "name": "stdout",
          "output_type": "stream",
          "text": [
            "Epoch [77/80] → Train Loss G: 7.9551, Train Loss D: 0.5798, Val Loss G: 12.0380\n"
          ]
        },
        {
          "name": "stderr",
          "output_type": "stream",
          "text": [
            "                                                                                                                       "
          ]
        },
        {
          "name": "stdout",
          "output_type": "stream",
          "text": [
            "Epoch [78/80] → Train Loss G: 7.9319, Train Loss D: 0.5786, Val Loss G: 11.6164\n"
          ]
        },
        {
          "name": "stderr",
          "output_type": "stream",
          "text": [
            "                                                                                                                       "
          ]
        },
        {
          "name": "stdout",
          "output_type": "stream",
          "text": [
            "Epoch [79/80] → Train Loss G: 7.9176, Train Loss D: 0.5815, Val Loss G: 13.1271\n"
          ]
        },
        {
          "name": "stderr",
          "output_type": "stream",
          "text": [
            "                                                                                                                       "
          ]
        },
        {
          "name": "stdout",
          "output_type": "stream",
          "text": [
            "Epoch [80/80] → Train Loss G: 7.8873, Train Loss D: 0.5809, Val Loss G: 12.0641\n",
            "✅ Continued training for 30 more epochs completed!\n"
          ]
        }
      ],
      "source": [
        "import torch\n",
        "import torch.optim as optim  # ✅ Make sure this is here\n",
        "\n",
        "# Load models with future-safe flag\n",
        "generator.load_state_dict(torch.load(\"./generator_model.pth\", weights_only=True))\n",
        "discriminator.load_state_dict(torch.load(\"./discriminator_model.pth\", weights_only=True))\n",
        "\n",
        "# Recreate optimizers\n",
        "optimizer_G = optim.Adam(generator.parameters(), lr=1e-4, betas=(0.5, 0.999))\n",
        "optimizer_D = optim.Adam(discriminator.parameters(), lr=1e-4, betas=(0.5, 0.999))\n",
        "\n",
        "\n",
        "# Continue Training for 30 more epochs (from 51 to 80)\n",
        "num_epochs_extra = 30\n",
        "start_epoch = 50  # Since you already finished epoch 50\n",
        "\n",
        "for epoch in range(start_epoch, start_epoch + num_epochs_extra):\n",
        "    generator.train()\n",
        "    discriminator.train()\n",
        "\n",
        "    epoch_loss_G, epoch_loss_D = 0, 0\n",
        "    train_progress = tqdm(train_loader, desc=f\"Epoch [{epoch+1}/{start_epoch + num_epochs_extra}]\", leave=False)\n",
        "\n",
        "    for real_images, real_masks in train_progress:\n",
        "        real_images, real_masks = real_images.to(device), real_masks.to(device)\n",
        "\n",
        "        # --- Train Discriminator ---\n",
        "        optimizer_D.zero_grad()\n",
        "        with autocast(\"cuda\"):\n",
        "            fake_masks = generator(real_images)\n",
        "            disc_real_inputs = torch.cat((real_images, real_masks), dim=1)\n",
        "            disc_fake_inputs = torch.cat((real_images, fake_masks.detach()), dim=1)\n",
        "\n",
        "            disc_real_outputs = discriminator(disc_real_inputs)\n",
        "            disc_fake_outputs = discriminator(disc_fake_inputs)\n",
        "\n",
        "            loss_D_real = sum(bce_loss(out, torch.ones_like(out)) for out in disc_real_outputs) / len(disc_real_outputs)\n",
        "            loss_D_fake = sum(bce_loss(out, torch.zeros_like(out)) for out in disc_fake_outputs) / len(disc_fake_outputs)\n",
        "            loss_D = (loss_D_real + loss_D_fake) * 0.5\n",
        "\n",
        "        scaler.scale(loss_D).backward()\n",
        "        scaler.step(optimizer_D)\n",
        "        scaler.update()\n",
        "\n",
        "        # --- Train Generator ---\n",
        "        optimizer_G.zero_grad()\n",
        "        with autocast(\"cuda\"):\n",
        "            fake_masks = generator(real_images)\n",
        "            disc_fake_inputs = torch.cat((real_images, fake_masks), dim=1)\n",
        "            disc_fake_outputs = discriminator(disc_fake_inputs)\n",
        "\n",
        "            loss_G_GAN = sum(bce_loss(out, torch.ones_like(out)) for out in disc_fake_outputs) / len(disc_fake_outputs)\n",
        "            loss_G_L1 = l1_loss(fake_masks, real_masks) * 100\n",
        "            loss_G = loss_G_GAN + loss_G_L1\n",
        "\n",
        "        scaler.scale(loss_G).backward()\n",
        "        scaler.step(optimizer_G)\n",
        "        scaler.update()\n",
        "\n",
        "        epoch_loss_D += loss_D.item()\n",
        "        epoch_loss_G += loss_G.item()\n",
        "\n",
        "    avg_train_loss_G = epoch_loss_G / len(train_loader)\n",
        "    avg_train_loss_D = epoch_loss_D / len(train_loader)\n",
        "\n",
        "    # --- Validation ---\n",
        "    generator.eval()\n",
        "    val_loss_G = 0\n",
        "    with torch.no_grad():\n",
        "        for val_images, val_masks in val_loader:\n",
        "            val_images, val_masks = val_images.to(device), val_masks.to(device)\n",
        "            fake_masks = generator(val_images)\n",
        "\n",
        "            disc_fake_inputs = torch.cat((val_images, fake_masks), dim=1)\n",
        "            disc_fake_outputs = discriminator(disc_fake_inputs)\n",
        "\n",
        "            loss_G_GAN_val = sum(bce_loss(out, torch.ones_like(out)) for out in disc_fake_outputs) / len(disc_fake_outputs)\n",
        "            loss_G_L1_val = l1_loss(fake_masks, val_masks) * 100\n",
        "            loss_G_val = loss_G_GAN_val + loss_G_L1_val\n",
        "\n",
        "            val_loss_G += loss_G_val.item()\n",
        "\n",
        "            # ✅ Save validation sample\n",
        "            save_path = os.path.join(output_dir, f\"epoch_{epoch}_sample.png\")\n",
        "            save_image(fake_masks, save_path)\n",
        "\n",
        "    avg_val_loss_G = val_loss_G / len(val_loader)\n",
        "\n",
        "    print(f\"Epoch [{epoch+1}/{start_epoch + num_epochs_extra}] → \"\n",
        "          f\"Train Loss G: {avg_train_loss_G:.4f}, Train Loss D: {avg_train_loss_D:.4f}, \"\n",
        "          f\"Val Loss G: {avg_val_loss_G:.4f}\")\n",
        "\n",
        "    # Save updated models\n",
        "    torch.save(generator.state_dict(), os.path.join(checkpoint_dir, f\"generator_epoch_{epoch+1}.pth\"))\n",
        "    torch.save(discriminator.state_dict(), os.path.join(checkpoint_dir, f\"discriminator_epoch_{epoch+1}.pth\"))\n",
        "\n",
        "# Final Save (optional overwrite or rename)\n",
        "torch.save(generator.state_dict(), \"./generator_model.pth\")\n",
        "torch.save(discriminator.state_dict(), \"./discriminator_model.pth\")\n",
        "\n",
        "print(\"✅ Continued training for 30 more epochs completed!\")\n"
      ]
    },
    {
      "cell_type": "code",
      "execution_count": null,
      "id": "47cce137-9e64-4f8a-b03d-d194d050d45f",
      "metadata": {
        "id": "47cce137-9e64-4f8a-b03d-d194d050d45f"
      },
      "outputs": [],
      "source": [
        "import os\n",
        "import torch\n",
        "import torch.nn as nn\n",
        "import torch.optim as optim\n",
        "from torch.cuda.amp import autocast, GradScaler\n",
        "from torchvision.utils import save_image\n",
        "from tqdm import tqdm\n",
        "\n",
        "# ✅ Assume these are already defined:\n",
        "# generator, discriminator, device, train_loader, val_loader\n",
        "# If not, initialize them before running the loop.\n",
        "\n",
        "# ✅ Define losses if not already done\n",
        "bce_loss = nn.BCEWithLogitsLoss()\n",
        "l1_loss = nn.L1Loss()\n",
        "\n",
        "# ✅ Paths\n",
        "output_dir = \"./generated_samples\"\n",
        "checkpoint_dir = \"./checkpoints\"\n",
        "os.makedirs(output_dir, exist_ok=True)\n",
        "os.makedirs(checkpoint_dir, exist_ok=True)\n",
        "\n",
        "# ✅ Load pretrained weights\n",
        "generator.load_state_dict(torch.load(\"./generator_model.pth\", map_location=device))\n",
        "discriminator.load_state_dict(torch.load(\"./discriminator_model.pth\", map_location=device))\n",
        "\n",
        "# ✅ Optimizers\n",
        "optimizer_G = optim.Adam(generator.parameters(), lr=1e-4, betas=(0.5, 0.999))\n",
        "optimizer_D = optim.Adam(discriminator.parameters(), lr=1e-4, betas=(0.5, 0.999))\n",
        "\n",
        "# ✅ AMP scaler\n",
        "scaler = GradScaler()\n",
        "\n",
        "# 🔁 Continue training from epoch 80 to 100\n",
        "start_epoch = 80\n",
        "num_epochs_extra = 20  # for 80 to 100\n",
        "\n",
        "for epoch in range(start_epoch, start_epoch + num_epochs_extra):\n",
        "    generator.train()\n",
        "    discriminator.train()\n",
        "    epoch_loss_G, epoch_loss_D = 0, 0\n",
        "\n",
        "    train_progress = tqdm(train_loader, desc=f\"Epoch [{epoch+1}/{start_epoch + num_epochs_extra}]\", leave=False)\n",
        "    for real_images, real_masks in train_progress:\n",
        "        real_images, real_masks = real_images.to(device), real_masks.to(device)\n",
        "\n",
        "        # --- Train Discriminator ---\n",
        "        optimizer_D.zero_grad()\n",
        "        with autocast(\"cuda\"):\n",
        "            fake_masks = generator(real_images)\n",
        "            disc_real_inputs = torch.cat((real_images, real_masks), dim=1)\n",
        "            disc_fake_inputs = torch.cat((real_images, fake_masks.detach()), dim=1)\n",
        "\n",
        "            disc_real_outputs = discriminator(disc_real_inputs)\n",
        "            disc_fake_outputs = discriminator(disc_fake_inputs)\n",
        "\n",
        "            loss_D_real = sum(bce_loss(out, torch.ones_like(out)) for out in disc_real_outputs) / len(disc_real_outputs)\n",
        "            loss_D_fake = sum(bce_loss(out, torch.zeros_like(out)) for out in disc_fake_outputs) / len(disc_fake_outputs)\n",
        "            loss_D = (loss_D_real + loss_D_fake) * 0.5\n",
        "\n",
        "        scaler.scale(loss_D).backward()\n",
        "        scaler.step(optimizer_D)\n",
        "        scaler.update()\n",
        "\n",
        "        # --- Train Generator ---\n",
        "        optimizer_G.zero_grad()\n",
        "        with autocast(\"cuda\"):\n",
        "            fake_masks = generator(real_images)\n",
        "            disc_fake_inputs = torch.cat((real_images, fake_masks), dim=1)\n",
        "            disc_fake_outputs = discriminator(disc_fake_inputs)\n",
        "\n",
        "            loss_G_GAN = sum(bce_loss(out, torch.ones_like(out)) for out in disc_fake_outputs) / len(disc_fake_outputs)\n",
        "            loss_G_L1 = l1_loss(fake_masks, real_masks) * 100\n",
        "            loss_G = loss_G_GAN + loss_G_L1\n",
        "\n",
        "        scaler.scale(loss_G).backward()\n",
        "        scaler.step(optimizer_G)\n",
        "        scaler.update()\n",
        "\n",
        "        epoch_loss_D += loss_D.item()\n",
        "        epoch_loss_G += loss_G.item()\n",
        "\n",
        "    avg_train_loss_G = epoch_loss_G / len(train_loader)\n",
        "    avg_train_loss_D = epoch_loss_D / len(train_loader)\n",
        "\n",
        "    # --- Validation ---\n",
        "    generator.eval()\n",
        "    val_loss_G = 0\n",
        "    with torch.no_grad():\n",
        "        for val_images, val_masks in val_loader:\n",
        "            val_images, val_masks = val_images.to(device), val_masks.to(device)\n",
        "            fake_masks = generator(val_images)\n",
        "\n",
        "            disc_fake_inputs = torch.cat((val_images, fake_masks), dim=1)\n",
        "            disc_fake_outputs = discriminator(disc_fake_inputs)\n",
        "\n",
        "            loss_G_GAN_val = sum(bce_loss(out, torch.ones_like(out)) for out in disc_fake_outputs) / len(disc_fake_outputs)\n",
        "            loss_G_L1_val = l1_loss(fake_masks, val_masks) * 100\n",
        "            loss_G_val = loss_G_GAN_val + loss_G_L1_val\n",
        "\n",
        "            val_loss_G += loss_G_val.item()\n",
        "\n",
        "            # ✅ Save validation sample\n",
        "            save_path = os.path.join(output_dir, f\"epoch_{epoch}_sample.png\")\n",
        "            save_image(fake_masks, save_path)\n",
        "\n",
        "    avg_val_loss_G = val_loss_G / len(val_loader)\n",
        "\n",
        "    print(f\"Epoch [{epoch+1}/{start_epoch + num_epochs_extra}] → \"\n",
        "          f\"Train Loss G: {avg_train_loss_G:.4f}, Train Loss D: {avg_train_loss_D:.4f}, \"\n",
        "          f\"Val Loss G: {avg_val_loss_G:.4f}\")\n",
        "\n",
        "    # ✅ Save model checkpoints\n",
        "    torch.save(generator.state_dict(), os.path.join(checkpoint_dir, f\"generator_epoch_{epoch+1}.pth\"))\n",
        "    torch.save(discriminator.state_dict(), os.path.join(checkpoint_dir, f\"discriminator_epoch_{epoch+1}.pth\"))\n",
        "\n",
        "# ✅ Final Save (overwrite or backup)\n",
        "torch.save(generator.state_dict(), \"./generator_model1.pth\")\n",
        "torch.save(discriminator.state_dict(), \"./discriminator_model1.pth\")\n",
        "\n",
        "print(\"✅ Continued training from epoch 80 to 100 completed!\")\n"
      ]
    },
    {
      "cell_type": "code",
      "execution_count": null,
      "id": "0bea4a74-0ebe-4a6c-8b04-b28fec851e27",
      "metadata": {
        "id": "0bea4a74-0ebe-4a6c-8b04-b28fec851e27"
      },
      "outputs": [],
      "source": [
        "# Create Test Dataset with Same Transformations\n",
        "class TestDataset(Dataset):\n",
        "    def __init__(self, image_dir, label_dir, transform=None):\n",
        "        self.image_dir = image_dir\n",
        "        self.label_dir = label_dir\n",
        "        self.transform = transform\n",
        "        self.image_filenames = sorted(os.listdir(image_dir))\n",
        "        self.label_filenames = sorted(os.listdir(label_dir))\n",
        "\n",
        "        # Ensure filenames match\n",
        "        assert len(self.image_filenames) == len(self.label_filenames), \"Mismatch in test dataset size!\"\n",
        "        assert all(img.split('.')[0] == lbl.split('.')[0]\n",
        "                   for img, lbl in zip(self.image_filenames, self.label_filenames)), \"Image and mask filenames do not match!\"\n",
        "\n",
        "    def __len__(self):\n",
        "        return len(self.image_filenames)\n",
        "\n",
        "    def __getitem__(self, idx):\n",
        "        img_path = os.path.join(self.image_dir, self.image_filenames[idx])\n",
        "        label_path = os.path.join(self.label_dir, self.label_filenames[idx])\n",
        "\n",
        "        image = Image.open(img_path).convert(\"RGB\")\n",
        "        label = Image.open(label_path).convert(\"L\")  # Convert to grayscale (single channel)\n",
        "\n",
        "        if self.transform:\n",
        "            image, label = self.transform(image, label)  # Apply same preprocessing\n",
        "\n",
        "        return image, label\n",
        "\n",
        "# Define a function to get the Test DataLoader\n",
        "def get_test_dataloader(batch_size=1):\n",
        "    transform = PairedTransform(image_size=128)  # ✅ Same as training\n",
        "\n",
        "    test_dataset = TestDataset(\n",
        "        image_dir=os.path.join(DATASET_PATH, \"test\"),\n",
        "        label_dir=os.path.join(DATASET_PATH, \"test_labels\"),\n",
        "        transform=transform,\n",
        "    )\n",
        "\n",
        "    test_loader = DataLoader(test_dataset, batch_size=batch_size, shuffle=False, num_workers=0, pin_memory=True)\n",
        "\n",
        "    return test_dataset, test_loader\n"
      ]
    },
    {
      "cell_type": "code",
      "execution_count": null,
      "id": "faf83ae4-bad7-4946-bfc4-627ee3d5d451",
      "metadata": {
        "id": "faf83ae4-bad7-4946-bfc4-627ee3d5d451",
        "outputId": "e69946e2-bc52-4ab8-837a-0abcd21ee3b6"
      },
      "outputs": [
        {
          "name": "stdout",
          "output_type": "stream",
          "text": [
            "Test Image Shape: torch.Size([1, 3, 128, 128])\n",
            "Test Label Shape: torch.Size([1, 1, 128, 128])\n"
          ]
        }
      ],
      "source": [
        "test_dataset, test_loader = get_test_dataloader(batch_size=1)\n",
        "\n",
        "# Check a sample\n",
        "test_img, test_label = next(iter(test_loader))\n",
        "print(\"Test Image Shape:\", test_img.shape)  # ✅ Expected: (1, 3, 128, 128)\n",
        "print(\"Test Label Shape:\", test_label.shape)  # ✅ Expected: (1, 1, 128, 128)\n"
      ]
    },
    {
      "cell_type": "code",
      "execution_count": null,
      "id": "983ad212-e475-4812-8a55-37d6c3d107fe",
      "metadata": {
        "id": "983ad212-e475-4812-8a55-37d6c3d107fe"
      },
      "outputs": [],
      "source": []
    }
  ],
  "metadata": {
    "kernelspec": {
      "display_name": "Python 3 (ipykernel)",
      "language": "python",
      "name": "python3"
    },
    "language_info": {
      "codemirror_mode": {
        "name": "ipython",
        "version": 3
      },
      "file_extension": ".py",
      "mimetype": "text/x-python",
      "name": "python",
      "nbconvert_exporter": "python",
      "pygments_lexer": "ipython3",
      "version": "3.11.3"
    },
    "colab": {
      "provenance": [],
      "toc_visible": true
    }
  },
  "nbformat": 4,
  "nbformat_minor": 5
}